{
 "cells": [
  {
   "cell_type": "code",
   "execution_count": 1,
   "metadata": {},
   "outputs": [
    {
     "name": "stdout",
     "output_type": "stream",
     "text": [
      "True\n"
     ]
    }
   ],
   "source": [
    "import pandas as pd\n",
    "import numpy as np\n",
    "import torch\n",
    "import torch.nn as nn\n",
    "from torch.utils.data import DataLoader, TensorDataset\n",
    "from sklearn.model_selection import train_test_split\n",
    "print(torch.cuda.is_available())\n"
   ]
  },
  {
   "cell_type": "code",
   "execution_count": 2,
   "metadata": {},
   "outputs": [],
   "source": [
    "# 1. 读取CSV文件并删除第一行和第一列\n",
    "def load_data(file_path):\n",
    "    # 读取csv，跳过第一行（header），并删除第一列（ID列）\n",
    "    df = pd.read_csv(file_path, skiprows=1)  # 跳过第一行\n",
    "    df = df.drop(df.columns[0], axis=1)  # 删除第一列（ID列）\n",
    "    df = df.drop(df.columns[0], axis=1)  # 删除时间戳列\n",
    "\n",
    "    # 将所有数据转换为浮点数，pandas会自动处理科学记数法\n",
    "    data = df.astype(float).values\n",
    "    return data\n",
    "\n",
    "# 2. 将数据转换为 [N', T, 14] 的形式\n",
    "def prepare_data(data, T):\n",
    "    N, D = data.shape  # N是总样本数，D是特征数（14）\n",
    "    N_prime = N // T  # 将N划分为 N' 组，每组 T 个时间步\n",
    "    data = data[:N_prime * T].reshape(N_prime, T, D)  # 将数据整形成 [N', T, D] 维\n",
    "    \n",
    "    # 转换为float16格式的tensor\n",
    "    return torch.tensor(data, dtype=torch.float16)  # 或者 torch.float32 视需要而定"
   ]
  },
  {
   "cell_type": "code",
   "execution_count": null,
   "metadata": {},
   "outputs": [],
   "source": [
    "class Encoder(nn.Module):\n",
    "    def __init__(self, input_size):\n",
    "        super().__init__()\n",
    "        self.encode_lstm = nn.LSTM()"
   ]
  },
  {
   "cell_type": "code",
   "execution_count": 10,
   "metadata": {},
   "outputs": [
    {
     "name": "stdout",
     "output_type": "stream",
     "text": [
      "train data size is: torch.Size([4123, 10, 13]) \n",
      " test data size istorch.Size([1031, 10, 13])\n"
     ]
    }
   ],
   "source": [
    "# run to train\n",
    "\n",
    "file_path = './data/VBOX.csv'\n",
    "data = load_data(file_path)\n",
    "\n",
    "# spilt the data\n",
    "train_data, test_data = train_test_split(data, test_size=0.2, random_state=42)\n",
    "\n",
    "# set the T\n",
    "T = 10  # 1s\n",
    "train_data, test_data = prepare_data(train_data, T), prepare_data(test_data, T)\n",
    "print(f\"train data size is: {train_data.shape}\", \"\\n\", f\"test data size is{test_data.shape}\")\n",
    "\n",
    "\n"
   ]
  }
 ],
 "metadata": {
  "kernelspec": {
   "display_name": "cs231n",
   "language": "python",
   "name": "python3"
  },
  "language_info": {
   "codemirror_mode": {
    "name": "ipython",
    "version": 3
   },
   "file_extension": ".py",
   "mimetype": "text/x-python",
   "name": "python",
   "nbconvert_exporter": "python",
   "pygments_lexer": "ipython3",
   "version": "3.7.12"
  }
 },
 "nbformat": 4,
 "nbformat_minor": 2
}
